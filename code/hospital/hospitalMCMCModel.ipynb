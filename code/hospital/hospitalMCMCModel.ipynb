{
  "cells": [
    {
      "cell_type": "code",
      "execution_count": 1,
      "metadata": {
        "id": "nshzcGfGEzGH"
      },
      "outputs": [],
      "source": [
        "import pymc as pm\n",
        "import numpy as np\n",
        "import arviz as az\n",
        "import matplotlib.pyplot as plt\n",
        "from scipy.stats import norm"
      ]
    },
    {
      "cell_type": "code",
      "execution_count": 32,
      "metadata": {
        "id": "bb73k_bNqvfe"
      },
      "outputs": [],
      "source": [
        "# Patient Arrival Rate\n",
        "\n",
        "arrivalRateMax = 322\n",
        "\n",
        "# Ambulance Arrival Rate\n",
        "\n",
        "ambulanceRateMax = 82\n",
        "\n",
        "# Nurse Arrival Rate\n",
        "\n",
        "arrivalRateNurseMax = 48"
      ]
    },
    {
      "cell_type": "code",
      "execution_count": 34,
      "metadata": {
        "id": "G_97KhxAYstY"
      },
      "outputs": [],
      "source": [
        "def modelWithDecisions(wfp, hoa, ro, draws):\n",
        "  model = pm.Model()\n",
        "\n",
        "  with model:\n",
        "      # Decision Nodes\n",
        "      workForcePlan = wfp\n",
        "      hireOvernightAnalyst = hoa\n",
        "      requestOvertime = ro\n",
        "\n",
        "      # Number of Nurses to Arrive Based on Decisions\n",
        "      workForcePlanNumber = workForcePlan*30 + (1-workForcePlan)*24\n",
        "      nurses = workForcePlanNumber + 0.3*requestOvertime*(workForcePlanNumber)\n",
        "\n",
        "      # Discrete Non-Conjugate (state of nature) Distributions\n",
        "      canadaDay = pm.Bernoulli(\"Canada Day\", 0.5)\n",
        "      heatWave = pm.Bernoulli(\"Heat Wave\", 0.5)\n",
        "      powerOutage = pm.Bernoulli(\"Power Outage\", (0.033+(heatWave*0.0396)))\n",
        "\n",
        "      # Percentage of Patients that will arrive based on the state of nature (if canadaDay happens, if there is a heatwave, if there is a power outage)\n",
        "      numPatientsCanadaDay = 1.1*(canadaDay) + (1-canadaDay)\n",
        "      numPatientsHeatWave = 1.11*(heatWave) + (1-heatWave)\n",
        "      numPatientsPowerOutage = 1.05*(powerOutage) + (1-powerOutage)\n",
        "      patientPercentage = numPatientsCanadaDay*numPatientsHeatWave*numPatientsPowerOutage\n",
        "\n",
        "      # Continuous Conjugate Prior Distributions of Arrival Rates\n",
        "      ambulanceArrivalRate = pm.Gamma(\"Ambulance Arrival Rate\", alpha = patientPercentage*ambulanceRateMax, beta = 2)\n",
        "      patientArrivalRate = pm.Gamma(\"Walk-in Arrival Rate\", alpha = patientPercentage*arrivalRateMax, beta = 2)\n",
        "\n",
        "      # Continuous Non-Conjugate Distributions of Patient Severity\n",
        "      patientSeverityAmbulance = pm.Triangular(\"Ambulance Severity\", lower = 1, c=2.7, upper=5)\n",
        "      patientSeverityWalkin = pm.Triangular(\"Walk-in Severity\", lower = 1, c=3.07, upper=5)\n",
        "\n",
        "      # Percentage of Nurses that will arrive based on the state of nature (canada day occuring)\n",
        "      nurseCanadaDay = 0.96*(canadaDay) + (1-canadaDay)\n",
        "\n",
        "      # Continuous Conjugate Posterior Distributions of Total Arrivals\n",
        "      # Impacted by overnight analyst providing an observation given that you hire one\n",
        "      # Overnight analyst has a p = 0.8 of giving an average observation and p = 0.2 of giving an above average one for patient arrivals\n",
        "      if hireOvernightAnalyst == 1:\n",
        "        prediction = np.random.binomial(1, p = 0.8)\n",
        "        if prediction == 1:\n",
        "          numberOfPatientsAmbulance = pm.Poisson(\"Number of Ambulance Patients\", (ambulanceArrivalRate), observed = 53)\n",
        "          numberOfPatientsWalkin = pm.Poisson(\"Number of Walk-in Patients\", (patientArrivalRate), observed = 209)\n",
        "        else:\n",
        "          numberOfPatientsAmbulance = pm.Poisson(\"Number of Ambulance Patients\", (ambulanceArrivalRate), observed = 64)\n",
        "          numberOfPatientsWalkin = pm.Poisson(\"Number of Walk-in Patients\", (patientArrivalRate), observed = 266)\n",
        "      else:\n",
        "        numberOfPatientsAmbulance = pm.Poisson(\"Number of Ambulance Patients\", (ambulanceArrivalRate))\n",
        "        numberOfPatientsWalkin = pm.Poisson(\"Number of Walk-in Patients\", (patientArrivalRate))\n",
        "\n",
        "      # Continuous Non-Conjugate Distribution of Nurse Arrivals, dependent on the number of nurses that arrive based on workforce plan and overtime request\n",
        "      numberOfNurses = pm.Triangular(\"Number of Nurses\", lower = 18, c = 24*nurseCanadaDay, upper = nurses*nurseCanadaDay)\n",
        "\n",
        "\n",
        "      # It should be noted that there are minimums and maximums in place for the patientsMissed. The maximum is there due to the possibility that serviceMean can be negative, given a lower than average number of patient arrivals\n",
        "      # and a higher than average number of nurse arrivals, which can result in a negative mean, which is set to 0. The minimum is there as there is the potential, due to the poisson distribution, of there being greater than\n",
        "      # 374 number of patients missed, however this is not possible as defined by the utility function (there are always 18 nurses in staff).\n",
        "      serviceMean = (numberOfPatientsWalkin*(1+((3.07-patientSeverityWalkin)/3.07)))+(numberOfPatientsAmbulance*(1+((2.7-patientSeverityAmbulance)/2.7)))-numberOfNurses*8\n",
        "\n",
        "      # Patients missed, which is dependent on patient severity and the number of patients arriving in total. The serviceMean variable is the complex equation used to determine the mean number of patients missed.\n",
        "      patientsMissed = pm.math.minimum(pm.Poisson(\"Number of Patients Not Serviced\", pm.math.maximum(serviceMean, 0)), 374)\n",
        "\n",
        "      # Continuous Non-Conjugate Distribution of Time Spent by DM, the time spent distribution is dependent on the decisions the DM makes\n",
        "      timeSpent = pm.Uniform(\"Time Spent\", lower = (8 + (2*workForcePlan + requestOvertime - 2*hireOvernightAnalyst)), upper = 12)\n",
        "\n",
        "      # Cost functions that comprise Uy, cost of nurses is dependent on workforce plan being in effect and the overtime amount, analyst cost being dependent on hiring an analyst and fine cost being dependent on patients missed.\n",
        "      costOfNurses = requestOvertime*((workForcePlanNumber)*467 + (workForcePlanNumber*0.3)*233.5) + (1-requestOvertime)*(workForcePlanNumber*467)\n",
        "      analystCost = 4500*hireOvernightAnalyst\n",
        "      fineCost = patientsMissed*500\n",
        "\n",
        "      # Total cost\n",
        "      cost = costOfNurses + analystCost + fineCost\n",
        "\n",
        "      # Utilities for time spent and cost\n",
        "      Ux = (pm.math.exp(timeSpent)-162754.79)/(-162351.36)\n",
        "      Uy = (pm.math.sqrt(cost)-455.644)/(-357.8)\n",
        "\n",
        "      # Multi variate utilities\n",
        "      Uxy = 0.4*Ux + 0.2*Uy+0.4*Ux*Uy\n",
        "\n",
        "      # Utility function, deterministic\n",
        "      Utility = pm.Deterministic(\"Utility\", Uxy)\n",
        "\n",
        "      # Model running code, the draws is defined in the inputs\n",
        "      with model:\n",
        "        trace = pm.sample(draws= draws,tune=1000,chains=2, random_seed=0)\n",
        "\n",
        "      # Returns the mean utility, model and trace, which were used for preliminary analysis\n",
        "      return (trace['posterior']['Utility']).to_numpy().mean(), model, trace\n"
      ]
    },
    {
      "cell_type": "code",
      "execution_count": 35,
      "metadata": {
        "colab": {
          "base_uri": "https://localhost:8080/",
          "height": 624
        },
        "id": "Vf7rpODRGYXw",
        "outputId": "15844f61-7cce-41a2-d692-1c191170e054"
      },
      "outputs": [
        {
          "output_type": "stream",
          "name": "stderr",
          "text": [
            "/usr/local/lib/python3.10/dist-packages/pytensor/tensor/rewriting/math.py:1173: RuntimeWarning: divide by zero encountered in double_scalars\n",
            "  v = reduce(np.multiply, num, one) / reduce(np.multiply, denum, one)\n",
            "/usr/local/lib/python3.10/dist-packages/pytensor/tensor/rewriting/math.py:1173: RuntimeWarning: divide by zero encountered in double_scalars\n",
            "  v = reduce(np.multiply, num, one) / reduce(np.multiply, denum, one)\n",
            "/usr/local/lib/python3.10/dist-packages/pytensor/tensor/rewriting/math.py:1173: RuntimeWarning: divide by zero encountered in double_scalars\n",
            "  v = reduce(np.multiply, num, one) / reduce(np.multiply, denum, one)\n",
            "/usr/local/lib/python3.10/dist-packages/pytensor/tensor/rewriting/math.py:1173: RuntimeWarning: divide by zero encountered in double_scalars\n",
            "  v = reduce(np.multiply, num, one) / reduce(np.multiply, denum, one)\n"
          ]
        },
        {
          "output_type": "display_data",
          "data": {
            "text/plain": [
              "<IPython.core.display.HTML object>"
            ],
            "text/html": [
              "\n",
              "<style>\n",
              "    /* Turns off some styling */\n",
              "    progress {\n",
              "        /* gets rid of default border in Firefox and Opera. */\n",
              "        border: none;\n",
              "        /* Needs to be in here for Safari polyfill so background images work as expected. */\n",
              "        background-size: auto;\n",
              "    }\n",
              "    progress:not([value]), progress:not([value])::-webkit-progress-bar {\n",
              "        background: repeating-linear-gradient(45deg, #7e7e7e, #7e7e7e 10px, #5c5c5c 10px, #5c5c5c 20px);\n",
              "    }\n",
              "    .progress-bar-interrupted, .progress-bar-interrupted::-webkit-progress-bar {\n",
              "        background: #F44336;\n",
              "    }\n",
              "</style>\n"
            ]
          },
          "metadata": {}
        },
        {
          "output_type": "display_data",
          "data": {
            "text/plain": [
              "<IPython.core.display.HTML object>"
            ],
            "text/html": [
              "\n",
              "    <div>\n",
              "      <progress value='21000' class='' max='21000' style='width:300px; height:20px; vertical-align: middle;'></progress>\n",
              "      100.00% [21000/21000 01:36&lt;00:00 Sampling chain 0, 0 divergences]\n",
              "    </div>\n",
              "    "
            ]
          },
          "metadata": {}
        },
        {
          "output_type": "display_data",
          "data": {
            "text/plain": [
              "<IPython.core.display.HTML object>"
            ],
            "text/html": [
              "\n",
              "<style>\n",
              "    /* Turns off some styling */\n",
              "    progress {\n",
              "        /* gets rid of default border in Firefox and Opera. */\n",
              "        border: none;\n",
              "        /* Needs to be in here for Safari polyfill so background images work as expected. */\n",
              "        background-size: auto;\n",
              "    }\n",
              "    progress:not([value]), progress:not([value])::-webkit-progress-bar {\n",
              "        background: repeating-linear-gradient(45deg, #7e7e7e, #7e7e7e 10px, #5c5c5c 10px, #5c5c5c 20px);\n",
              "    }\n",
              "    .progress-bar-interrupted, .progress-bar-interrupted::-webkit-progress-bar {\n",
              "        background: #F44336;\n",
              "    }\n",
              "</style>\n"
            ]
          },
          "metadata": {}
        },
        {
          "output_type": "display_data",
          "data": {
            "text/plain": [
              "<IPython.core.display.HTML object>"
            ],
            "text/html": [
              "\n",
              "    <div>\n",
              "      <progress value='21000' class='' max='21000' style='width:300px; height:20px; vertical-align: middle;'></progress>\n",
              "      100.00% [21000/21000 01:52&lt;00:00 Sampling chain 1, 0 divergences]\n",
              "    </div>\n",
              "    "
            ]
          },
          "metadata": {}
        },
        {
          "output_type": "display_data",
          "data": {
            "text/plain": [
              "<IPython.core.display.HTML object>"
            ],
            "text/html": [
              "\n",
              "<style>\n",
              "    /* Turns off some styling */\n",
              "    progress {\n",
              "        /* gets rid of default border in Firefox and Opera. */\n",
              "        border: none;\n",
              "        /* Needs to be in here for Safari polyfill so background images work as expected. */\n",
              "        background-size: auto;\n",
              "    }\n",
              "    progress:not([value]), progress:not([value])::-webkit-progress-bar {\n",
              "        background: repeating-linear-gradient(45deg, #7e7e7e, #7e7e7e 10px, #5c5c5c 10px, #5c5c5c 20px);\n",
              "    }\n",
              "    .progress-bar-interrupted, .progress-bar-interrupted::-webkit-progress-bar {\n",
              "        background: #F44336;\n",
              "    }\n",
              "</style>\n"
            ]
          },
          "metadata": {}
        },
        {
          "output_type": "display_data",
          "data": {
            "text/plain": [
              "<IPython.core.display.HTML object>"
            ],
            "text/html": [
              "\n",
              "    <div>\n",
              "      <progress value='21000' class='' max='21000' style='width:300px; height:20px; vertical-align: middle;'></progress>\n",
              "      100.00% [21000/21000 01:52&lt;00:00 Sampling chain 0, 0 divergences]\n",
              "    </div>\n",
              "    "
            ]
          },
          "metadata": {}
        },
        {
          "output_type": "display_data",
          "data": {
            "text/plain": [
              "<IPython.core.display.HTML object>"
            ],
            "text/html": [
              "\n",
              "<style>\n",
              "    /* Turns off some styling */\n",
              "    progress {\n",
              "        /* gets rid of default border in Firefox and Opera. */\n",
              "        border: none;\n",
              "        /* Needs to be in here for Safari polyfill so background images work as expected. */\n",
              "        background-size: auto;\n",
              "    }\n",
              "    progress:not([value]), progress:not([value])::-webkit-progress-bar {\n",
              "        background: repeating-linear-gradient(45deg, #7e7e7e, #7e7e7e 10px, #5c5c5c 10px, #5c5c5c 20px);\n",
              "    }\n",
              "    .progress-bar-interrupted, .progress-bar-interrupted::-webkit-progress-bar {\n",
              "        background: #F44336;\n",
              "    }\n",
              "</style>\n"
            ]
          },
          "metadata": {}
        },
        {
          "output_type": "display_data",
          "data": {
            "text/plain": [
              "<IPython.core.display.HTML object>"
            ],
            "text/html": [
              "\n",
              "    <div>\n",
              "      <progress value='21000' class='' max='21000' style='width:300px; height:20px; vertical-align: middle;'></progress>\n",
              "      100.00% [21000/21000 01:52&lt;00:00 Sampling chain 1, 0 divergences]\n",
              "    </div>\n",
              "    "
            ]
          },
          "metadata": {}
        },
        {
          "output_type": "stream",
          "name": "stderr",
          "text": [
            "/usr/local/lib/python3.10/dist-packages/pytensor/tensor/rewriting/math.py:1173: RuntimeWarning: divide by zero encountered in double_scalars\n",
            "  v = reduce(np.multiply, num, one) / reduce(np.multiply, denum, one)\n",
            "/usr/local/lib/python3.10/dist-packages/pytensor/tensor/rewriting/math.py:1173: RuntimeWarning: divide by zero encountered in double_scalars\n",
            "  v = reduce(np.multiply, num, one) / reduce(np.multiply, denum, one)\n",
            "/usr/local/lib/python3.10/dist-packages/pytensor/tensor/rewriting/math.py:1173: RuntimeWarning: divide by zero encountered in double_scalars\n",
            "  v = reduce(np.multiply, num, one) / reduce(np.multiply, denum, one)\n",
            "/usr/local/lib/python3.10/dist-packages/pytensor/tensor/rewriting/math.py:1173: RuntimeWarning: divide by zero encountered in double_scalars\n",
            "  v = reduce(np.multiply, num, one) / reduce(np.multiply, denum, one)\n"
          ]
        },
        {
          "output_type": "display_data",
          "data": {
            "text/plain": [
              "<IPython.core.display.HTML object>"
            ],
            "text/html": [
              "\n",
              "<style>\n",
              "    /* Turns off some styling */\n",
              "    progress {\n",
              "        /* gets rid of default border in Firefox and Opera. */\n",
              "        border: none;\n",
              "        /* Needs to be in here for Safari polyfill so background images work as expected. */\n",
              "        background-size: auto;\n",
              "    }\n",
              "    progress:not([value]), progress:not([value])::-webkit-progress-bar {\n",
              "        background: repeating-linear-gradient(45deg, #7e7e7e, #7e7e7e 10px, #5c5c5c 10px, #5c5c5c 20px);\n",
              "    }\n",
              "    .progress-bar-interrupted, .progress-bar-interrupted::-webkit-progress-bar {\n",
              "        background: #F44336;\n",
              "    }\n",
              "</style>\n"
            ]
          },
          "metadata": {}
        },
        {
          "output_type": "display_data",
          "data": {
            "text/plain": [
              "<IPython.core.display.HTML object>"
            ],
            "text/html": [
              "\n",
              "    <div>\n",
              "      <progress value='21000' class='' max='21000' style='width:300px; height:20px; vertical-align: middle;'></progress>\n",
              "      100.00% [21000/21000 01:20&lt;00:00 Sampling chain 0, 0 divergences]\n",
              "    </div>\n",
              "    "
            ]
          },
          "metadata": {}
        },
        {
          "output_type": "display_data",
          "data": {
            "text/plain": [
              "<IPython.core.display.HTML object>"
            ],
            "text/html": [
              "\n",
              "<style>\n",
              "    /* Turns off some styling */\n",
              "    progress {\n",
              "        /* gets rid of default border in Firefox and Opera. */\n",
              "        border: none;\n",
              "        /* Needs to be in here for Safari polyfill so background images work as expected. */\n",
              "        background-size: auto;\n",
              "    }\n",
              "    progress:not([value]), progress:not([value])::-webkit-progress-bar {\n",
              "        background: repeating-linear-gradient(45deg, #7e7e7e, #7e7e7e 10px, #5c5c5c 10px, #5c5c5c 20px);\n",
              "    }\n",
              "    .progress-bar-interrupted, .progress-bar-interrupted::-webkit-progress-bar {\n",
              "        background: #F44336;\n",
              "    }\n",
              "</style>\n"
            ]
          },
          "metadata": {}
        },
        {
          "output_type": "display_data",
          "data": {
            "text/plain": [
              "<IPython.core.display.HTML object>"
            ],
            "text/html": [
              "\n",
              "    <div>\n",
              "      <progress value='21000' class='' max='21000' style='width:300px; height:20px; vertical-align: middle;'></progress>\n",
              "      100.00% [21000/21000 01:29&lt;00:00 Sampling chain 1, 0 divergences]\n",
              "    </div>\n",
              "    "
            ]
          },
          "metadata": {}
        },
        {
          "output_type": "display_data",
          "data": {
            "text/plain": [
              "<IPython.core.display.HTML object>"
            ],
            "text/html": [
              "\n",
              "<style>\n",
              "    /* Turns off some styling */\n",
              "    progress {\n",
              "        /* gets rid of default border in Firefox and Opera. */\n",
              "        border: none;\n",
              "        /* Needs to be in here for Safari polyfill so background images work as expected. */\n",
              "        background-size: auto;\n",
              "    }\n",
              "    progress:not([value]), progress:not([value])::-webkit-progress-bar {\n",
              "        background: repeating-linear-gradient(45deg, #7e7e7e, #7e7e7e 10px, #5c5c5c 10px, #5c5c5c 20px);\n",
              "    }\n",
              "    .progress-bar-interrupted, .progress-bar-interrupted::-webkit-progress-bar {\n",
              "        background: #F44336;\n",
              "    }\n",
              "</style>\n"
            ]
          },
          "metadata": {}
        },
        {
          "output_type": "display_data",
          "data": {
            "text/plain": [
              "<IPython.core.display.HTML object>"
            ],
            "text/html": [
              "\n",
              "    <div>\n",
              "      <progress value='21000' class='' max='21000' style='width:300px; height:20px; vertical-align: middle;'></progress>\n",
              "      100.00% [21000/21000 05:53&lt;00:00 Sampling chain 0, 0 divergences]\n",
              "    </div>\n",
              "    "
            ]
          },
          "metadata": {}
        },
        {
          "output_type": "display_data",
          "data": {
            "text/plain": [
              "<IPython.core.display.HTML object>"
            ],
            "text/html": [
              "\n",
              "<style>\n",
              "    /* Turns off some styling */\n",
              "    progress {\n",
              "        /* gets rid of default border in Firefox and Opera. */\n",
              "        border: none;\n",
              "        /* Needs to be in here for Safari polyfill so background images work as expected. */\n",
              "        background-size: auto;\n",
              "    }\n",
              "    progress:not([value]), progress:not([value])::-webkit-progress-bar {\n",
              "        background: repeating-linear-gradient(45deg, #7e7e7e, #7e7e7e 10px, #5c5c5c 10px, #5c5c5c 20px);\n",
              "    }\n",
              "    .progress-bar-interrupted, .progress-bar-interrupted::-webkit-progress-bar {\n",
              "        background: #F44336;\n",
              "    }\n",
              "</style>\n"
            ]
          },
          "metadata": {}
        },
        {
          "output_type": "display_data",
          "data": {
            "text/plain": [
              "<IPython.core.display.HTML object>"
            ],
            "text/html": [
              "\n",
              "    <div>\n",
              "      <progress value='21000' class='' max='21000' style='width:300px; height:20px; vertical-align: middle;'></progress>\n",
              "      100.00% [21000/21000 01:35&lt;00:00 Sampling chain 1, 0 divergences]\n",
              "    </div>\n",
              "    "
            ]
          },
          "metadata": {}
        },
        {
          "output_type": "display_data",
          "data": {
            "text/plain": [
              "<IPython.core.display.HTML object>"
            ],
            "text/html": [
              "\n",
              "<style>\n",
              "    /* Turns off some styling */\n",
              "    progress {\n",
              "        /* gets rid of default border in Firefox and Opera. */\n",
              "        border: none;\n",
              "        /* Needs to be in here for Safari polyfill so background images work as expected. */\n",
              "        background-size: auto;\n",
              "    }\n",
              "    progress:not([value]), progress:not([value])::-webkit-progress-bar {\n",
              "        background: repeating-linear-gradient(45deg, #7e7e7e, #7e7e7e 10px, #5c5c5c 10px, #5c5c5c 20px);\n",
              "    }\n",
              "    .progress-bar-interrupted, .progress-bar-interrupted::-webkit-progress-bar {\n",
              "        background: #F44336;\n",
              "    }\n",
              "</style>\n"
            ]
          },
          "metadata": {}
        },
        {
          "output_type": "display_data",
          "data": {
            "text/plain": [
              "<IPython.core.display.HTML object>"
            ],
            "text/html": [
              "\n",
              "    <div>\n",
              "      <progress value='21000' class='' max='21000' style='width:300px; height:20px; vertical-align: middle;'></progress>\n",
              "      100.00% [21000/21000 02:03&lt;00:00 Sampling chain 0, 0 divergences]\n",
              "    </div>\n",
              "    "
            ]
          },
          "metadata": {}
        },
        {
          "output_type": "display_data",
          "data": {
            "text/plain": [
              "<IPython.core.display.HTML object>"
            ],
            "text/html": [
              "\n",
              "<style>\n",
              "    /* Turns off some styling */\n",
              "    progress {\n",
              "        /* gets rid of default border in Firefox and Opera. */\n",
              "        border: none;\n",
              "        /* Needs to be in here for Safari polyfill so background images work as expected. */\n",
              "        background-size: auto;\n",
              "    }\n",
              "    progress:not([value]), progress:not([value])::-webkit-progress-bar {\n",
              "        background: repeating-linear-gradient(45deg, #7e7e7e, #7e7e7e 10px, #5c5c5c 10px, #5c5c5c 20px);\n",
              "    }\n",
              "    .progress-bar-interrupted, .progress-bar-interrupted::-webkit-progress-bar {\n",
              "        background: #F44336;\n",
              "    }\n",
              "</style>\n"
            ]
          },
          "metadata": {}
        },
        {
          "output_type": "display_data",
          "data": {
            "text/plain": [
              "<IPython.core.display.HTML object>"
            ],
            "text/html": [
              "\n",
              "    <div>\n",
              "      <progress value='21000' class='' max='21000' style='width:300px; height:20px; vertical-align: middle;'></progress>\n",
              "      100.00% [21000/21000 04:41&lt;00:00 Sampling chain 1, 0 divergences]\n",
              "    </div>\n",
              "    "
            ]
          },
          "metadata": {}
        },
        {
          "output_type": "display_data",
          "data": {
            "text/plain": [
              "<IPython.core.display.HTML object>"
            ],
            "text/html": [
              "\n",
              "<style>\n",
              "    /* Turns off some styling */\n",
              "    progress {\n",
              "        /* gets rid of default border in Firefox and Opera. */\n",
              "        border: none;\n",
              "        /* Needs to be in here for Safari polyfill so background images work as expected. */\n",
              "        background-size: auto;\n",
              "    }\n",
              "    progress:not([value]), progress:not([value])::-webkit-progress-bar {\n",
              "        background: repeating-linear-gradient(45deg, #7e7e7e, #7e7e7e 10px, #5c5c5c 10px, #5c5c5c 20px);\n",
              "    }\n",
              "    .progress-bar-interrupted, .progress-bar-interrupted::-webkit-progress-bar {\n",
              "        background: #F44336;\n",
              "    }\n",
              "</style>\n"
            ]
          },
          "metadata": {}
        },
        {
          "output_type": "display_data",
          "data": {
            "text/plain": [
              "<IPython.core.display.HTML object>"
            ],
            "text/html": [
              "\n",
              "    <div>\n",
              "      <progress value='21000' class='' max='21000' style='width:300px; height:20px; vertical-align: middle;'></progress>\n",
              "      100.00% [21000/21000 02:43&lt;00:00 Sampling chain 0, 0 divergences]\n",
              "    </div>\n",
              "    "
            ]
          },
          "metadata": {}
        },
        {
          "output_type": "display_data",
          "data": {
            "text/plain": [
              "<IPython.core.display.HTML object>"
            ],
            "text/html": [
              "\n",
              "<style>\n",
              "    /* Turns off some styling */\n",
              "    progress {\n",
              "        /* gets rid of default border in Firefox and Opera. */\n",
              "        border: none;\n",
              "        /* Needs to be in here for Safari polyfill so background images work as expected. */\n",
              "        background-size: auto;\n",
              "    }\n",
              "    progress:not([value]), progress:not([value])::-webkit-progress-bar {\n",
              "        background: repeating-linear-gradient(45deg, #7e7e7e, #7e7e7e 10px, #5c5c5c 10px, #5c5c5c 20px);\n",
              "    }\n",
              "    .progress-bar-interrupted, .progress-bar-interrupted::-webkit-progress-bar {\n",
              "        background: #F44336;\n",
              "    }\n",
              "</style>\n"
            ]
          },
          "metadata": {}
        },
        {
          "output_type": "display_data",
          "data": {
            "text/plain": [
              "<IPython.core.display.HTML object>"
            ],
            "text/html": [
              "\n",
              "    <div>\n",
              "      <progress value='21000' class='' max='21000' style='width:300px; height:20px; vertical-align: middle;'></progress>\n",
              "      100.00% [21000/21000 01:52&lt;00:00 Sampling chain 1, 0 divergences]\n",
              "    </div>\n",
              "    "
            ]
          },
          "metadata": {}
        },
        {
          "output_type": "display_data",
          "data": {
            "text/plain": [
              "<IPython.core.display.HTML object>"
            ],
            "text/html": [
              "\n",
              "<style>\n",
              "    /* Turns off some styling */\n",
              "    progress {\n",
              "        /* gets rid of default border in Firefox and Opera. */\n",
              "        border: none;\n",
              "        /* Needs to be in here for Safari polyfill so background images work as expected. */\n",
              "        background-size: auto;\n",
              "    }\n",
              "    progress:not([value]), progress:not([value])::-webkit-progress-bar {\n",
              "        background: repeating-linear-gradient(45deg, #7e7e7e, #7e7e7e 10px, #5c5c5c 10px, #5c5c5c 20px);\n",
              "    }\n",
              "    .progress-bar-interrupted, .progress-bar-interrupted::-webkit-progress-bar {\n",
              "        background: #F44336;\n",
              "    }\n",
              "</style>\n"
            ]
          },
          "metadata": {}
        },
        {
          "output_type": "display_data",
          "data": {
            "text/plain": [
              "<IPython.core.display.HTML object>"
            ],
            "text/html": [
              "\n",
              "    <div>\n",
              "      <progress value='21000' class='' max='21000' style='width:300px; height:20px; vertical-align: middle;'></progress>\n",
              "      100.00% [21000/21000 01:30&lt;00:00 Sampling chain 0, 0 divergences]\n",
              "    </div>\n",
              "    "
            ]
          },
          "metadata": {}
        },
        {
          "output_type": "display_data",
          "data": {
            "text/plain": [
              "<IPython.core.display.HTML object>"
            ],
            "text/html": [
              "\n",
              "<style>\n",
              "    /* Turns off some styling */\n",
              "    progress {\n",
              "        /* gets rid of default border in Firefox and Opera. */\n",
              "        border: none;\n",
              "        /* Needs to be in here for Safari polyfill so background images work as expected. */\n",
              "        background-size: auto;\n",
              "    }\n",
              "    progress:not([value]), progress:not([value])::-webkit-progress-bar {\n",
              "        background: repeating-linear-gradient(45deg, #7e7e7e, #7e7e7e 10px, #5c5c5c 10px, #5c5c5c 20px);\n",
              "    }\n",
              "    .progress-bar-interrupted, .progress-bar-interrupted::-webkit-progress-bar {\n",
              "        background: #F44336;\n",
              "    }\n",
              "</style>\n"
            ]
          },
          "metadata": {}
        },
        {
          "output_type": "display_data",
          "data": {
            "text/plain": [
              "<IPython.core.display.HTML object>"
            ],
            "text/html": [
              "\n",
              "    <div>\n",
              "      <progress value='21000' class='' max='21000' style='width:300px; height:20px; vertical-align: middle;'></progress>\n",
              "      100.00% [21000/21000 01:46&lt;00:00 Sampling chain 1, 0 divergences]\n",
              "    </div>\n",
              "    "
            ]
          },
          "metadata": {}
        },
        {
          "output_type": "display_data",
          "data": {
            "text/plain": [
              "<IPython.core.display.HTML object>"
            ],
            "text/html": [
              "\n",
              "<style>\n",
              "    /* Turns off some styling */\n",
              "    progress {\n",
              "        /* gets rid of default border in Firefox and Opera. */\n",
              "        border: none;\n",
              "        /* Needs to be in here for Safari polyfill so background images work as expected. */\n",
              "        background-size: auto;\n",
              "    }\n",
              "    progress:not([value]), progress:not([value])::-webkit-progress-bar {\n",
              "        background: repeating-linear-gradient(45deg, #7e7e7e, #7e7e7e 10px, #5c5c5c 10px, #5c5c5c 20px);\n",
              "    }\n",
              "    .progress-bar-interrupted, .progress-bar-interrupted::-webkit-progress-bar {\n",
              "        background: #F44336;\n",
              "    }\n",
              "</style>\n"
            ]
          },
          "metadata": {}
        },
        {
          "output_type": "display_data",
          "data": {
            "text/plain": [
              "<IPython.core.display.HTML object>"
            ],
            "text/html": [
              "\n",
              "    <div>\n",
              "      <progress value='21000' class='' max='21000' style='width:300px; height:20px; vertical-align: middle;'></progress>\n",
              "      100.00% [21000/21000 02:33&lt;00:00 Sampling chain 0, 0 divergences]\n",
              "    </div>\n",
              "    "
            ]
          },
          "metadata": {}
        },
        {
          "output_type": "display_data",
          "data": {
            "text/plain": [
              "<IPython.core.display.HTML object>"
            ],
            "text/html": [
              "\n",
              "<style>\n",
              "    /* Turns off some styling */\n",
              "    progress {\n",
              "        /* gets rid of default border in Firefox and Opera. */\n",
              "        border: none;\n",
              "        /* Needs to be in here for Safari polyfill so background images work as expected. */\n",
              "        background-size: auto;\n",
              "    }\n",
              "    progress:not([value]), progress:not([value])::-webkit-progress-bar {\n",
              "        background: repeating-linear-gradient(45deg, #7e7e7e, #7e7e7e 10px, #5c5c5c 10px, #5c5c5c 20px);\n",
              "    }\n",
              "    .progress-bar-interrupted, .progress-bar-interrupted::-webkit-progress-bar {\n",
              "        background: #F44336;\n",
              "    }\n",
              "</style>\n"
            ]
          },
          "metadata": {}
        },
        {
          "output_type": "display_data",
          "data": {
            "text/plain": [
              "<IPython.core.display.HTML object>"
            ],
            "text/html": [
              "\n",
              "    <div>\n",
              "      <progress value='21000' class='' max='21000' style='width:300px; height:20px; vertical-align: middle;'></progress>\n",
              "      100.00% [21000/21000 02:19&lt;00:00 Sampling chain 1, 0 divergences]\n",
              "    </div>\n",
              "    "
            ]
          },
          "metadata": {}
        }
      ],
      "source": [
        "# Runs through each possible scenario, with 20000 runs, tune of 1000 and 2 chains\n",
        "utilitiesList = []\n",
        "for i in range(2):\n",
        "  for j in range(2):\n",
        "    for k in range(2):\n",
        "      utilitiesList.append([[i,j,k], modelWithDecisions(i,j,k, 20000)[0]])"
      ]
    },
    {
      "cell_type": "code",
      "execution_count": 36,
      "metadata": {
        "colab": {
          "base_uri": "https://localhost:8080/"
        },
        "id": "B44BBbNHLFFn",
        "outputId": "64b7b6f5-21ba-46e1-e2f7-12c65889b43c"
      },
      "outputs": [
        {
          "output_type": "stream",
          "name": "stdout",
          "text": [
            "---------------------\n",
            "The workforce plan is business as usual\n",
            "Overnight Analyst is not hired\n",
            "Overtime is not requested\n",
            "Utility is: 0.69\n",
            "---------------------\n",
            "The workforce plan is business as usual\n",
            "Overnight Analyst is not hired\n",
            "Overtime is requested\n",
            "Utility is: 0.608\n",
            "---------------------\n",
            "The workforce plan is business as usual\n",
            "Overnight Analyst is hired\n",
            "Overtime is not requested\n",
            "Utility is: 0.638\n",
            "---------------------\n",
            "The workforce plan is business as usual\n",
            "Overnight Analyst is hired\n",
            "Overtime is requested\n",
            "Utility is: 0.679\n",
            "---------------------\n",
            "The workforce plan is to have high number of staff\n",
            "Overnight Analyst is not hired\n",
            "Overtime is not requested\n",
            "Utility is: 0.575\n",
            "---------------------\n",
            "The workforce plan is to have high number of staff\n",
            "Overnight Analyst is not hired\n",
            "Overtime is requested\n",
            "Utility is: 0.447\n",
            "---------------------\n",
            "The workforce plan is to have high number of staff\n",
            "Overnight Analyst is hired\n",
            "Overtime is not requested\n",
            "Utility is: 0.616\n",
            "---------------------\n",
            "The workforce plan is to have high number of staff\n",
            "Overnight Analyst is hired\n",
            "Overtime is requested\n",
            "Utility is: 0.64\n"
          ]
        }
      ],
      "source": [
        "# For printing utilities\n",
        "for l in utilitiesList:\n",
        "  print(\"---------------------\")\n",
        "  if l[0][0] == 0:\n",
        "    print(\"The workforce plan is business as usual\")\n",
        "  if l[0][0] == 1:\n",
        "    print(\"The workforce plan is to have high number of staff\")\n",
        "  if l[0][1] == 0:\n",
        "    print(\"Overnight Analyst is not hired\")\n",
        "  if l[0][1] == 1:\n",
        "    print(\"Overnight Analyst is hired\")\n",
        "  if l[0][2] == 0:\n",
        "    print(\"Overtime is not requested\")\n",
        "  if l[0][2] == 1:\n",
        "    print(\"Overtime is requested\")\n",
        "  print(\"Utility is:\", round(l[1], 3))"
      ]
    }
  ],
  "metadata": {
    "colab": {
      "provenance": []
    },
    "kernelspec": {
      "display_name": "Python 3",
      "name": "python3"
    },
    "language_info": {
      "name": "python"
    }
  },
  "nbformat": 4,
  "nbformat_minor": 0
}